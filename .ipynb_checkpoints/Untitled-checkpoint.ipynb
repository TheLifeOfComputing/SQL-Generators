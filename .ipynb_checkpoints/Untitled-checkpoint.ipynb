{
 "cells": [
  {
   "cell_type": "code",
   "execution_count": 114,
   "metadata": {},
   "outputs": [
    {
     "name": "stdout",
     "output_type": "stream",
     "text": [
      "Status Code: 401\n",
      "b'HTTP Token: Access denied.\\n'\n",
      "{'user': {'login': 'trixo', 'password': 'pass321'}}\n"
     ]
    }
   ],
   "source": [
    "import requests, json\n",
    "\n",
    "url = \"https://favqs.com/api/session\"\n",
    "\n",
    "header = {\n",
    "'Content-type': 'application/json',\n",
    "  \"Authorization\": \"Token token = 'Bearer 05f0e108fc4218f9ba08c27a9c3b23b0'\",\n",
    "  \"Accept\": \"application/vnd.api+json\"\n",
    "}\n",
    "\n",
    "data = { \n",
    "  \"user\": {\n",
    "    \"login\": \"trixo\",\n",
    "    \"password\": \"pass321\"\n",
    "  }\n",
    "}\n",
    "\n",
    "r = requests.post(url, json=data, headers=header)\n",
    "print(\"Status Code: {0}\".format(r.status_code))\n",
    "print(r.content)\n",
    "\n",
    "print(data)"
   ]
  },
  {
   "cell_type": "code",
   "execution_count": null,
   "metadata": {},
   "outputs": [],
   "source": []
  },
  {
   "cell_type": "code",
   "execution_count": null,
   "metadata": {},
   "outputs": [],
   "source": []
  }
 ],
 "metadata": {
  "kernelspec": {
   "display_name": "Python 3",
   "language": "python",
   "name": "python3"
  },
  "language_info": {
   "codemirror_mode": {
    "name": "ipython",
    "version": 3
   },
   "file_extension": ".py",
   "mimetype": "text/x-python",
   "name": "python",
   "nbconvert_exporter": "python",
   "pygments_lexer": "ipython3",
   "version": "3.7.9"
  }
 },
 "nbformat": 4,
 "nbformat_minor": 4
}
