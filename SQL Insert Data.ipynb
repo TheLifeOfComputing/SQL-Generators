{
 "cells": [
  {
   "cell_type": "code",
   "execution_count": 16,
   "metadata": {},
   "outputs": [
    {
     "name": "stdout",
     "output_type": "stream",
     "text": [
      "Table Name: Test\n",
      "How many fields: 2\n",
      "Enter field name: id\n",
      "Enter datatype (int/str): int\n",
      "Enter field name: name\n",
      "Enter datatype (int/str): str\n",
      "Enter value for id: 0\n",
      "Enter value for name: Edward\n",
      "Add more? (Y = 1/N = 0): 1\n",
      "Enter value for id: 1\n",
      "Enter value for name: Joseph\n",
      "Add more? (Y = 1/N = 0): 1\n",
      "Enter value for id: 2\n",
      "Enter value for name: Richard\n",
      "Add more? (Y = 1/N = 0): 1\n",
      "Enter value for id: 3\n",
      "Enter value for name: Another Value\n",
      "Add more? (Y = 1/N = 0): 0\n",
      "INSERT VALUES Test(id, name) VALUES(0, 'Edward')\n",
      "INSERT VALUES Test(id, name) VALUES(1, 'Joseph')\n",
      "INSERT VALUES Test(id, name) VALUES(2, 'Richard')\n",
      "INSERT VALUES Test(id, name) VALUES(3, 'Another Value')\n"
     ]
    }
   ],
   "source": [
    "# Insert Data\n",
    "ui = True\n",
    "table = str(input(\"Table Name: \"))\n",
    "numFields = int(input(\"How many fields: \"))\n",
    "\n",
    "fields = []; datatypes = [];\n",
    "for i in range(0, numFields) :\n",
    "        fields.append(input(\"Enter field name: \"))\n",
    "        datatypes.append(input(\"Enter datatype (int/str): \"))\n",
    "\n",
    "qry = \"INSERT VALUES \" + table + \"(\"\n",
    "\n",
    "while(ui) :                         \n",
    "    for i, field in enumerate(fields) :\n",
    "        if i + 1 == numFields :\n",
    "            qry += field + \") VALUES(\"\n",
    "        else :\n",
    "            qry += field + \", \"\n",
    "\n",
    "    for i, datatype in enumerate(datatypes) :\n",
    "        if datatype == \"str\" :\n",
    "            qry += \"'\" + input(\"Enter value for \" + fields[i] + \": \") + \"'\"\n",
    "        else :\n",
    "            qry += input(\"Enter value for \" + fields[i] + \": \")\n",
    "            \n",
    "        if i + 1 == numFields :\n",
    "            qry += \")\"\n",
    "            \n",
    "        else :\n",
    "            qry += \", \"\n",
    "    \n",
    "    ui = int(input(\"Add more? (Y = 1/N = 0): \"))\n",
    "    \n",
    "    if(ui) :\n",
    "        qry += \"\\nINSERT VALUES \" + table + \"(\"\n",
    "        \n",
    "print(qry)"
   ]
  },
  {
   "cell_type": "code",
   "execution_count": null,
   "metadata": {},
   "outputs": [],
   "source": []
  }
 ],
 "metadata": {
  "kernelspec": {
   "display_name": "Python 3",
   "language": "python",
   "name": "python3"
  },
  "language_info": {
   "codemirror_mode": {
    "name": "ipython",
    "version": 3
   },
   "file_extension": ".py",
   "mimetype": "text/x-python",
   "name": "python",
   "nbconvert_exporter": "python",
   "pygments_lexer": "ipython3",
   "version": "3.7.9"
  }
 },
 "nbformat": 4,
 "nbformat_minor": 4
}
