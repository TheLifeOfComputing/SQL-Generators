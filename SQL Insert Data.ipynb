{
 "cells": [
  {
   "cell_type": "code",
   "execution_count": 2,
   "metadata": {},
   "outputs": [
    {
     "name": "stdout",
     "output_type": "stream",
     "text": [
      "Table Name: test\n",
      "How many fields: 1\n",
      "Enter field name: i\n",
      "Enter datatype (int/str): int\n",
      "Enter value for i: 3\n",
      "Add more? (Y = 1/N = 0): 0\n",
      "\n",
      "INSERT VALUES test(i) VALUES(3)\n"
     ]
    }
   ],
   "source": [
    "# Insert Data\n",
    "ui = True\n",
    "table = str(input(\"Table Name: \"))\n",
    "numFields = int(input(\"How many fields: \"))\n",
    "\n",
    "fields = []; datatypes = [];\n",
    "for i in range(0, numFields) :\n",
    "        fields.append(input(\"Enter field name: \"))\n",
    "        datatypes.append(input(\"Enter datatype (int/str): \"))\n",
    "\n",
    "qry = \"INSERT VALUES \" + table + \"(\"\n",
    "\n",
    "while(ui) :                         \n",
    "    for i, field in enumerate(fields) :\n",
    "        if i + 1 == numFields :\n",
    "            qry += field + \") VALUES(\"\n",
    "        else :\n",
    "            qry += field + \", \"\n",
    "\n",
    "    for i, datatype in enumerate(datatypes) :\n",
    "        if datatype == \"str\" :\n",
    "            qry += \"'\" + input(\"Enter value for \" + fields[i] + \": \") + \"'\"\n",
    "        else :\n",
    "            qry += input(\"Enter value for \" + fields[i] + \": \")\n",
    "            \n",
    "        if i + 1 == numFields :\n",
    "            qry += \")\"\n",
    "            \n",
    "        else :\n",
    "            qry += \", \"\n",
    "    \n",
    "    ui = int(input(\"Add more? (Y = 1/N = 0): \"))\n",
    "    \n",
    "    if(ui) :\n",
    "        qry += \"\\nINSERT VALUES \" + table + \"(\"\n",
    "        \n",
    "print(\"\\n\" + qry)"
   ]
  },
  {
   "cell_type": "code",
   "execution_count": null,
   "metadata": {},
   "outputs": [],
   "source": []
  }
 ],
 "metadata": {
  "kernelspec": {
   "display_name": "Python 3",
   "language": "python",
   "name": "python3"
  },
  "language_info": {
   "codemirror_mode": {
    "name": "ipython",
    "version": 3
   },
   "file_extension": ".py",
   "mimetype": "text/x-python",
   "name": "python",
   "nbconvert_exporter": "python",
   "pygments_lexer": "ipython3",
   "version": "3.7.9"
  }
 },
 "nbformat": 4,
 "nbformat_minor": 4
}
