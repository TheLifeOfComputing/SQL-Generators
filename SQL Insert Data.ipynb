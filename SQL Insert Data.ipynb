{
 "cells": [
  {
   "cell_type": "code",
   "execution_count": 3,
   "metadata": {
    "scrolled": false
   },
   "outputs": [
    {
     "data": {
      "text/html": [
       "<h1>Shift-Enter this cell, then click a button :)</h1>\n",
       "<b>Note:</b>\n",
       "<ul>\n",
       "    <li>If buttons ask to redirect you, don't! Read Previous Step</li>\n",
       "    <li>Cell->Run All (will also work)</li>\n",
       "    <li>To restart Kernal->Restart & Run All</li>"
      ]
     },
     "metadata": {},
     "output_type": "display_data"
    },
    {
     "data": {
      "text/html": [
       "<h1>Start Insert Generator</h1>"
      ]
     },
     "metadata": {},
     "output_type": "display_data"
    },
    {
     "data": {
      "text/html": [
       "<form action=\"javascript:IPython.notebook.execute_cells([1]);\">\n",
       "<input type=\"submit\" id=\"toggleButton\" value=\"Start the Insert Generater (Insane)\"></form>"
      ]
     },
     "metadata": {},
     "output_type": "display_data"
    },
    {
     "data": {
      "text/html": [
       "<script>\n",
       "code_show=true; \n",
       "function code_toggle() {\n",
       " if (code_show){\n",
       " $('div.input').hide();\n",
       " } else {\n",
       " $('div.input').show();\n",
       " }\n",
       " code_show = !code_show\n",
       "} \n",
       "$( document ).ready(code_toggle);\n",
       "</script>\n",
       "<form action=\"javascript:code_toggle()\"><input type=\"submit\" value=\"Click here to toggle on/off \n",
       "the raw code.\"></form>"
      ],
      "text/plain": [
       "<IPython.core.display.HTML object>"
      ]
     },
     "execution_count": 3,
     "metadata": {},
     "output_type": "execute_result"
    }
   ],
   "source": [
    "import warnings\n",
    "warnings.filterwarnings(\"ignore\", message=\"numpy.dtype size changed\")\n",
    "\n",
    "from IPython.core.display import display, HTML\n",
    "from IPython.display import Javascript, display\n",
    "from ipywidgets import widgets\n",
    "\n",
    "#Widen cells\n",
    "#display(HTML(\"<style>.container { width:55% !important; }</style>\"))\n",
    "\n",
    "#Adding Buttons\n",
    "import IPython.core.display as di # Example: di.display_html('<h3>%s:</h3>' % str, raw=True)\n",
    "import IPython.core.display as title\n",
    "#Execute all bellow button\n",
    "title.display_html('''<h1>Shift-Enter this cell, then click a button :)</h1>\n",
    "<b>Note:</b>\n",
    "<ul>\n",
    "    <li>If buttons ask to redirect you, don't! Read Previous Step</li>\n",
    "    <li>Cell->Run All (will also work)</li>\n",
    "    <li>To restart Kernal->Restart & Run All</li>''', raw=True)\n",
    "di.display_html('<h1>Start Insert Generator</h1>', raw=True)\n",
    "                                                                            #Function/Input/Output\n",
    "di.display_html('''<form action=\"javascript:IPython.notebook.execute_cells([1]);\">\n",
    "<input type=\"submit\" id=\"toggleButton\" value=\"Start the Insert Generater (Insane)\"></form>''', raw=True)\n",
    "\n",
    "HTML('''<script>\n",
    "code_show=true; \n",
    "function code_toggle() {\n",
    " if (code_show){\n",
    " $('div.input').hide();\n",
    " } else {\n",
    " $('div.input').show();\n",
    " }\n",
    " code_show = !code_show\n",
    "} \n",
    "$( document ).ready(code_toggle);\n",
    "</script>\n",
    "<form action=\"javascript:code_toggle()\"><input type=\"submit\" value=\"Click here to toggle on/off \n",
    "the raw code.\"></form>''')"
   ]
  },
  {
   "cell_type": "code",
   "execution_count": null,
   "metadata": {
    "scrolled": true
   },
   "outputs": [],
   "source": [
    "# Insert Data\n",
    "ui = True\n",
    "table = str(input(\"Table Name: \"))\n",
    "numFields = int(input(\"How many fields: \"))\n",
    "\n",
    "fields = []; datatypes = [];\n",
    "for i in range(0, numFields) :\n",
    "        fields.append(input(\"Enter field name: \"))\n",
    "        datatypes.append(input(\"Enter datatype (int/str): \"))\n",
    "\n",
    "qry = \"INSERT INTO \" + table + \"(\"\n",
    "\n",
    "while(ui) :                         \n",
    "    for i, field in enumerate(fields) :\n",
    "        if i + 1 == numFields :\n",
    "            qry += field + \") VALUES(\"\n",
    "        else :\n",
    "            qry += field + \", \"\n",
    "\n",
    "    for i, datatype in enumerate(datatypes) :\n",
    "        if datatype == \"str\" :\n",
    "            qry += \"'\" + input(\"Enter value for \" + fields[i] + \": \") + \"'\"\n",
    "        else :\n",
    "            qry += input(\"Enter value for \" + fields[i] + \": \")\n",
    "            \n",
    "        if i + 1 == numFields :\n",
    "            qry += \")\"\n",
    "            \n",
    "        else :\n",
    "            qry += \", \"\n",
    "    \n",
    "    ui = int(input(\"Add more? (Y = 1/N = 0): \"))\n",
    "    \n",
    "    if(ui) :\n",
    "        qry += \"\\nINSERT INTO \" + table + \"(\"\n",
    "        \n",
    "print(\"\\n\" + qry)"
   ]
  }
 ],
 "metadata": {
  "kernelspec": {
   "display_name": "Python 3",
   "language": "python",
   "name": "python3"
  },
  "language_info": {
   "codemirror_mode": {
    "name": "ipython",
    "version": 3
   },
   "file_extension": ".py",
   "mimetype": "text/x-python",
   "name": "python",
   "nbconvert_exporter": "python",
   "pygments_lexer": "ipython3",
   "version": "3.7.9"
  }
 },
 "nbformat": 4,
 "nbformat_minor": 4
}
